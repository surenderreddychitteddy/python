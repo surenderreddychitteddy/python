{
 "cells": [
  {
   "cell_type": "code",
   "execution_count": 3,
   "metadata": {},
   "outputs": [
    {
     "name": "stdout",
     "output_type": "stream",
     "text": [
      "45.0\n",
      "45.0\n",
      "45.0\n",
      "25.0\n",
      "25\n"
     ]
    }
   ],
   "source": [
    "# Operator Precedence:\n",
    "\n",
    "print((5 + 4) * 10 / 2) # 5+4, 9 * 10 , 90/2 = 45.0 or 5+4, 10/2, 9*5 = 45.0\n",
    "\n",
    "print(((5 + 4) * 10) / 2) # 5+4, 9*10, 90/2 = 45.0\n",
    "\n",
    "print((5 + 4) * (10 / 2)) # 10/2, 5+4, 9*5 = 45.0\n",
    "\n",
    "print(5 + (4 * 10) / 2) # 4*10, 40/2, 5+20 = 25.0\n",
    "\n",
    "print(5 + 4 * 10 // 2) # 4*10, 40//2, 5 + 20 = 25\n"
   ]
  },
  {
   "cell_type": "code",
   "execution_count": 71,
   "metadata": {},
   "outputs": [
    {
     "name": "stdout",
     "output_type": "stream",
     "text": [
      "0b101\n",
      "17\n"
     ]
    }
   ],
   "source": [
    "#Converting int to binary, vice-versa\n",
    "print(bin(5)) \n",
    "#bin() is the in-built method which is used to convert an integer to binary number.\n",
    "# In output: '0b101', '0b' indicates binary. '101' is the binary format of 5. \n",
    "\n",
    "print(int('101', base=2)) \n",
    "#int() can be used with the specific base to convert it into integer. Here, I am converting a binary number to integer.\n",
    "# 2 means we are specifying the input is currently in binary format. "
   ]
  },
  {
   "cell_type": "code",
   "execution_count": 18,
   "metadata": {},
   "outputs": [
    {
     "ename": "ValueError",
     "evalue": "invalid literal for int() with base 2: '102'",
     "output_type": "error",
     "traceback": [
      "\u001b[1;31m---------------------------------------------------------------------------\u001b[0m",
      "\u001b[1;31mValueError\u001b[0m                                Traceback (most recent call last)",
      "\u001b[1;32m<ipython-input-18-70e2be0b1e77>\u001b[0m in \u001b[0;36m<module>\u001b[1;34m\u001b[0m\n\u001b[1;32m----> 1\u001b[1;33m \u001b[0mprint\u001b[0m\u001b[1;33m(\u001b[0m\u001b[0mint\u001b[0m\u001b[1;33m(\u001b[0m\u001b[1;34m'102'\u001b[0m\u001b[1;33m,\u001b[0m \u001b[1;36m2\u001b[0m\u001b[1;33m)\u001b[0m\u001b[1;33m)\u001b[0m \u001b[1;31m# Value error occurred because only 0,1 are accepted in binary format and we have provided 2 in the input.\u001b[0m\u001b[1;33m\u001b[0m\u001b[1;33m\u001b[0m\u001b[0m\n\u001b[0m",
      "\u001b[1;31mValueError\u001b[0m: invalid literal for int() with base 2: '102'"
     ]
    }
   ],
   "source": [
    "#Converting int to binary, vice-versa\n",
    "print(int('102', base=2)) \n",
    "# Value error occurred because only 0,1 are accepted in binary format and we have provided '102' in the input."
   ]
  },
  {
   "cell_type": "code",
   "execution_count": 72,
   "metadata": {},
   "outputs": [
    {
     "name": "stdout",
     "output_type": "stream",
     "text": [
      "-0xf\n",
      "15\n"
     ]
    }
   ],
   "source": [
    "#Converting int to hexa-decimal, vice-versa\n",
    "#hex() is the in-built method which can be used to convert an integer to a hexa-decimal value.\n",
    "\n",
    "print(hex(-15)) \n",
    "# In output: '-0xf', '0x' indicates hexa-decimal. 'f' is the hexa-decimal format of 15. \n",
    "print(int('f',base=16))\n",
    "# 16 means we are specifying the input is currently in hexa-decimal format."
   ]
  },
  {
   "cell_type": "code",
   "execution_count": 75,
   "metadata": {},
   "outputs": [
    {
     "name": "stdout",
     "output_type": "stream",
     "text": [
      "-0xf\n"
     ]
    },
    {
     "ename": "ValueError",
     "evalue": "invalid literal for int() with base 16: 'fg'",
     "output_type": "error",
     "traceback": [
      "\u001b[1;31m---------------------------------------------------------------------------\u001b[0m",
      "\u001b[1;31mValueError\u001b[0m                                Traceback (most recent call last)",
      "\u001b[1;32m<ipython-input-75-c094c123e90e>\u001b[0m in \u001b[0;36m<module>\u001b[1;34m\u001b[0m\n\u001b[0;32m      1\u001b[0m \u001b[1;31m#Converting int to hexa-decimal, vice-versa\u001b[0m\u001b[1;33m\u001b[0m\u001b[1;33m\u001b[0m\u001b[1;33m\u001b[0m\u001b[0m\n\u001b[0;32m      2\u001b[0m \u001b[0mprint\u001b[0m\u001b[1;33m(\u001b[0m\u001b[0mhex\u001b[0m\u001b[1;33m(\u001b[0m\u001b[1;33m-\u001b[0m\u001b[1;36m15\u001b[0m\u001b[1;33m)\u001b[0m\u001b[1;33m)\u001b[0m \u001b[1;31m# In output: '-0xf', '0x' indicates hexa-decimal. 'f' is the hexa-decimal format of 15.\u001b[0m\u001b[1;33m\u001b[0m\u001b[1;33m\u001b[0m\u001b[0m\n\u001b[1;32m----> 3\u001b[1;33m \u001b[0mprint\u001b[0m\u001b[1;33m(\u001b[0m\u001b[0mint\u001b[0m\u001b[1;33m(\u001b[0m\u001b[1;34m'fg'\u001b[0m\u001b[1;33m,\u001b[0m\u001b[0mbase\u001b[0m\u001b[1;33m=\u001b[0m\u001b[1;36m16\u001b[0m\u001b[1;33m)\u001b[0m\u001b[1;33m)\u001b[0m \u001b[1;31m# Exception occurred because hexa-decimal has 0-9, a-f for 0-15 decimal numbers. 'g' is not a hexa-decimal value and Hence it resulted in Value Error exception.\u001b[0m\u001b[1;33m\u001b[0m\u001b[1;33m\u001b[0m\u001b[0m\n\u001b[0m",
      "\u001b[1;31mValueError\u001b[0m: invalid literal for int() with base 16: 'fg'"
     ]
    }
   ],
   "source": [
    "#Converting int to hexa-decimal, vice-versa\n",
    "print(hex(-15)) \n",
    "# In output: '-0xf', '0x' indicates hexa-decimal. 'f' is the hexa-decimal format of 15. \n",
    "\n",
    "print(int('fg',base=16))\n",
    "# Exception occurred because hexa-decimal has 0-9, a-f for 0-9 and a-f are 10-15 decimal numbers. 'g' is not a hexa-decimal value and Hence it resulted in Value Error exception."
   ]
  },
  {
   "cell_type": "code",
   "execution_count": 90,
   "metadata": {},
   "outputs": [
    {
     "name": "stdout",
     "output_type": "stream",
     "text": [
      "10\n",
      "136\n"
     ]
    },
    {
     "ename": "TypeError",
     "evalue": "int() can't convert non-string with explicit base",
     "output_type": "error",
     "traceback": [
      "\u001b[1;31m---------------------------------------------------------------------------\u001b[0m",
      "\u001b[1;31mTypeError\u001b[0m                                 Traceback (most recent call last)",
      "\u001b[1;32m<ipython-input-90-abbb369265ed>\u001b[0m in \u001b[0;36m<module>\u001b[1;34m\u001b[0m\n\u001b[0;32m      1\u001b[0m \u001b[0mprint\u001b[0m\u001b[1;33m(\u001b[0m\u001b[0mint\u001b[0m\u001b[1;33m(\u001b[0m\u001b[1;34m'a'\u001b[0m\u001b[1;33m,\u001b[0m\u001b[0mbase\u001b[0m\u001b[1;33m=\u001b[0m\u001b[1;36m15\u001b[0m\u001b[1;33m)\u001b[0m\u001b[1;33m)\u001b[0m\u001b[1;33m\u001b[0m\u001b[1;33m\u001b[0m\u001b[0m\n\u001b[0;32m      2\u001b[0m \u001b[0mprint\u001b[0m\u001b[1;33m(\u001b[0m\u001b[0mint\u001b[0m\u001b[1;33m(\u001b[0m\u001b[1;34m'91'\u001b[0m\u001b[1;33m,\u001b[0m\u001b[0mbase\u001b[0m\u001b[1;33m=\u001b[0m\u001b[1;36m15\u001b[0m\u001b[1;33m)\u001b[0m\u001b[1;33m)\u001b[0m\u001b[1;33m\u001b[0m\u001b[1;33m\u001b[0m\u001b[0m\n\u001b[1;32m----> 3\u001b[1;33m \u001b[0mprint\u001b[0m\u001b[1;33m(\u001b[0m\u001b[0mint\u001b[0m\u001b[1;33m(\u001b[0m\u001b[1;33m[\u001b[0m\u001b[1;36m10\u001b[0m\u001b[1;33m]\u001b[0m\u001b[1;33m,\u001b[0m\u001b[0mbase\u001b[0m\u001b[1;33m=\u001b[0m\u001b[1;36m15\u001b[0m\u001b[1;33m)\u001b[0m\u001b[1;33m)\u001b[0m\u001b[1;33m\u001b[0m\u001b[1;33m\u001b[0m\u001b[0m\n\u001b[0m\u001b[0;32m      4\u001b[0m \u001b[1;31m# If the input is not a string and we specify the base. Then int() method cannot convert it.\u001b[0m\u001b[1;33m\u001b[0m\u001b[1;33m\u001b[0m\u001b[1;33m\u001b[0m\u001b[0m\n\u001b[0;32m      5\u001b[0m \u001b[1;31m# In the current scenario, we have passed a list i.e, [10], but the int() method is expecting a string with in range of a hexa-decimal\u001b[0m\u001b[1;33m\u001b[0m\u001b[1;33m\u001b[0m\u001b[1;33m\u001b[0m\u001b[0m\n",
      "\u001b[1;31mTypeError\u001b[0m: int() can't convert non-string with explicit base"
     ]
    }
   ],
   "source": [
    "print(int('a',base=15))\n",
    "print(int('91',base=15))\n",
    "print(int([10],base=15))\n",
    "# If the input is not a string and we specify the base. Then int() method cannot convert it.\n",
    "# In the current scenario, we have passed a list i.e, [10].\n",
    "# But the int() method is expecting a string with in range of a hexa-decimal."
   ]
  },
  {
   "cell_type": "code",
   "execution_count": 91,
   "metadata": {},
   "outputs": [
    {
     "name": "stdout",
     "output_type": "stream",
     "text": [
      "10\n"
     ]
    },
    {
     "ename": "ValueError",
     "evalue": "invalid literal for int() with base 10: 'a'",
     "output_type": "error",
     "traceback": [
      "\u001b[1;31m---------------------------------------------------------------------------\u001b[0m",
      "\u001b[1;31mValueError\u001b[0m                                Traceback (most recent call last)",
      "\u001b[1;32m<ipython-input-91-e89e6abfd534>\u001b[0m in \u001b[0;36m<module>\u001b[1;34m\u001b[0m\n\u001b[0;32m      1\u001b[0m \u001b[0mprint\u001b[0m\u001b[1;33m(\u001b[0m\u001b[0mint\u001b[0m\u001b[1;33m(\u001b[0m\u001b[1;34m'10'\u001b[0m\u001b[1;33m)\u001b[0m\u001b[1;33m)\u001b[0m\u001b[1;33m\u001b[0m\u001b[1;33m\u001b[0m\u001b[0m\n\u001b[1;32m----> 2\u001b[1;33m \u001b[0mprint\u001b[0m\u001b[1;33m(\u001b[0m\u001b[0mint\u001b[0m\u001b[1;33m(\u001b[0m\u001b[1;34m'a'\u001b[0m\u001b[1;33m)\u001b[0m\u001b[1;33m)\u001b[0m\u001b[1;33m\u001b[0m\u001b[1;33m\u001b[0m\u001b[0m\n\u001b[0m\u001b[0;32m      3\u001b[0m \u001b[1;31m#If we do not specify base value by default int() will consider base = 10. As we don't have 'a' in decimal numbers python will throw ValueError exception.\u001b[0m\u001b[1;33m\u001b[0m\u001b[1;33m\u001b[0m\u001b[1;33m\u001b[0m\u001b[0m\n",
      "\u001b[1;31mValueError\u001b[0m: invalid literal for int() with base 10: 'a'"
     ]
    }
   ],
   "source": [
    "print(int('10'))\n",
    "print(int('a'))\n",
    "#If we do not specify base value by default int() will consider base = 10 i.e, we can pass any number ranging from 0-9. \n",
    "#As we don't have 'a' in decimal numbers python will throw ValueError exception."
   ]
  },
  {
   "cell_type": "code",
   "execution_count": 104,
   "metadata": {},
   "outputs": [
    {
     "name": "stdout",
     "output_type": "stream",
     "text": [
      "<class 'int'>\n",
      "True\n",
      "False\n"
     ]
    }
   ],
   "source": [
    "'''Datatype'''\n",
    "num = 5\n",
    "#Here we are assigning a number to the variable. \n",
    "#A variable in Python is not bound permanently to a specific data type.\n",
    "#In Python, the data assigned to a variable decides its data type and not the other way around.\n",
    "#In Java we specify the datatype first and then assign the value to it. \n",
    "#Example: int a = 10. Here the term 'int' is specifying the dataype of variable 'a' as integer and we cannot assign value other than integer.\n",
    "print(type(num))\n",
    "#We can test its datatype using the type() function. Here, The datatype of 'num' is 'int'.\n",
    "print(isinstance(num,int))\n",
    "print(isinstance(num,complex))\n",
    "#isinstance() function will return 'boolean' value after checking if the variable belongs to particular class or not."
   ]
  },
  {
   "cell_type": "code",
   "execution_count": 100,
   "metadata": {},
   "outputs": [
    {
     "name": "stdout",
     "output_type": "stream",
     "text": [
      "140732959269392\n"
     ]
    }
   ],
   "source": [
    "'''Memory Location'''\n",
    "print(id(num))\n",
    "#Any value of certain type is stored in the computer's memory for processing. \n",
    "#Out of available memory locations, one is randomly allocated for storage. \n",
    "#In order to conveniently and repeatedly refer to the stored value, it is given a suitable name.\n",
    "#We can see the memory location of any variable using id() function."
   ]
  },
  {
   "cell_type": "code",
   "execution_count": 115,
   "metadata": {},
   "outputs": [
    {
     "name": "stdout",
     "output_type": "stream",
     "text": [
      "3.3000000000000003\n",
      "3.3\n"
     ]
    }
   ],
   "source": [
    "#Decimal numbers\n",
    "\n",
    "print(1.1 + 2.2)\n",
    "#floating-point numbers are implemented in computer hardware as binary fractions.\n",
    "#As computer only understands binary (0 and 1). \n",
    "#Due to this reason, most of the decimal fractions we know, cannot be accurately stored in our computer.\n",
    "\n",
    "from decimal import Decimal\n",
    "print(Decimal('1.1') + Decimal('2.2'))\n",
    "#When to use Decimal instead of float?\n",
    "#We generally use Decimal in the following cases.\n",
    "#When we are making financial applications that need exact decimal representation.\n",
    "#When we want to control the level of precision required.\n",
    "#When we want the operations to be carried out like we did at school\n"
   ]
  },
  {
   "cell_type": "code",
   "execution_count": 120,
   "metadata": {},
   "outputs": [
    {
     "name": "stdout",
     "output_type": "stream",
     "text": [
      "16\n",
      "e\n",
      "['c', 'a', 'd', 'b', 'e']\n",
      "0.3379395427090047\n"
     ]
    }
   ],
   "source": [
    "#Random module\n",
    "\n",
    "import random\n",
    "\n",
    "print(random.randrange(10,20))\n",
    "#Prints random number in the given range.\n",
    "\n",
    "x = ['a', 'b', 'c', 'd', 'e']\n",
    "\n",
    "# Get random choice\n",
    "print(random.choice(x))\n",
    "#Prints a random element from 'x'.\n",
    "\n",
    "# Shuffle x\n",
    "random.shuffle(x)\n",
    "\n",
    "\n",
    "# Print the shuffled x\n",
    "print(x)\n",
    "\n",
    "# Print random element\n",
    "print(random.random())\n",
    "#Prints random number between 0,1."
   ]
  },
  {
   "cell_type": "code",
   "execution_count": 134,
   "metadata": {},
   "outputs": [
    {
     "name": "stdout",
     "output_type": "stream",
     "text": [
      "720\n",
      "2.0\n",
      "4.0\n",
      "4\n",
      "8.0\n"
     ]
    }
   ],
   "source": [
    "#Math module\n",
    "\n",
    "import math\n",
    "\n",
    "print(math.factorial(6))\n",
    "#Returns the factorial of the given number.\n",
    "\n",
    "print(math.sqrt(4))\n",
    "#Returns the square root of the given number.\n",
    "\n",
    "print(math.fabs(-4))\n",
    "print(abs(-4))\n",
    "#Returns the absolute value of the given number. Alternative for math.fabs() function is abs() function.\n",
    "#abs() function returns the int value by default while math.fabs() send the float response.\n",
    "\n",
    "print(math.pow(2,3))\n",
    "#Returns the output of x power y."
   ]
  },
  {
   "cell_type": "code",
   "execution_count": 9,
   "metadata": {},
   "outputs": [
    {
     "name": "stdout",
     "output_type": "stream",
     "text": [
      "6\n",
      "6\n",
      "7\n"
     ]
    }
   ],
   "source": [
    "print(round(6.4))\n",
    "print(round(6.5))\n",
    "print(round(6.6))\n",
    "\n",
    "# round() is a built-in python function which will display the nearest integer value for the given input."
   ]
  },
  {
   "cell_type": "code",
   "execution_count": null,
   "metadata": {},
   "outputs": [],
   "source": []
  }
 ],
 "metadata": {
  "kernelspec": {
   "display_name": "Python 3",
   "language": "python",
   "name": "python3"
  },
  "language_info": {
   "codemirror_mode": {
    "name": "ipython",
    "version": 3
   },
   "file_extension": ".py",
   "mimetype": "text/x-python",
   "name": "python",
   "nbconvert_exporter": "python",
   "pygments_lexer": "ipython3",
   "version": "3.7.4"
  }
 },
 "nbformat": 4,
 "nbformat_minor": 2
}
