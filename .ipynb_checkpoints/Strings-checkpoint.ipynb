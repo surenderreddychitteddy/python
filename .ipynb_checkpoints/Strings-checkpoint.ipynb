{
 "cells": [
  {
   "cell_type": "code",
   "execution_count": 3,
   "metadata": {},
   "outputs": [
    {
     "name": "stdout",
     "output_type": "stream",
     "text": [
      "Surender Reddy\n",
      "<class 'str'>\n"
     ]
    }
   ],
   "source": [
    "#String\n",
    "\n",
    "print('Surender Reddy')\n",
    "print(type('Surender Reddy'))\n",
    "#Strings can be written either in single quotes or under double quotes."
   ]
  },
  {
   "cell_type": "code",
   "execution_count": 14,
   "metadata": {},
   "outputs": [
    {
     "name": "stdout",
     "output_type": "stream",
     "text": [
      "WOOW\n",
      "O  O\n",
      " --\n",
      " \\/\n",
      "\n"
     ]
    }
   ],
   "source": [
    "#Multi-line string\n",
    "print('''WOOW\n",
    "O  O\n",
    " --\n",
    " \\/\n",
    "''')\n",
    "\n",
    "#Multi-line strings should be written between 3 quotations."
   ]
  },
  {
   "cell_type": "code",
   "execution_count": 21,
   "metadata": {},
   "outputs": [
    {
     "name": "stdout",
     "output_type": "stream",
     "text": [
      "SurenderReddy\n"
     ]
    },
    {
     "ename": "TypeError",
     "evalue": "can only concatenate str (not \"int\") to str",
     "output_type": "error",
     "traceback": [
      "\u001b[1;31m---------------------------------------------------------------------------\u001b[0m",
      "\u001b[1;31mTypeError\u001b[0m                                 Traceback (most recent call last)",
      "\u001b[1;32m<ipython-input-21-cf1088747a97>\u001b[0m in \u001b[0;36m<module>\u001b[1;34m\u001b[0m\n\u001b[0;32m      6\u001b[0m \u001b[0mprint\u001b[0m\u001b[1;33m(\u001b[0m\u001b[0mfull_name\u001b[0m\u001b[1;33m)\u001b[0m\u001b[1;33m\u001b[0m\u001b[1;33m\u001b[0m\u001b[0m\n\u001b[0;32m      7\u001b[0m \u001b[1;31m#This will concatinate both the strings and print the output.\u001b[0m\u001b[1;33m\u001b[0m\u001b[1;33m\u001b[0m\u001b[1;33m\u001b[0m\u001b[0m\n\u001b[1;32m----> 8\u001b[1;33m \u001b[0mprint\u001b[0m\u001b[1;33m(\u001b[0m\u001b[0mfull_name\u001b[0m \u001b[1;33m+\u001b[0m \u001b[1;36m5\u001b[0m\u001b[1;33m)\u001b[0m\u001b[1;33m\u001b[0m\u001b[1;33m\u001b[0m\u001b[0m\n\u001b[0m\u001b[0;32m      9\u001b[0m \u001b[1;31m#Concatination happens only between string but not with string and another datatypes.\u001b[0m\u001b[1;33m\u001b[0m\u001b[1;33m\u001b[0m\u001b[1;33m\u001b[0m\u001b[0m\n\u001b[0;32m     10\u001b[0m \u001b[1;31m#So, it raises the TypeError exception.\u001b[0m\u001b[1;33m\u001b[0m\u001b[1;33m\u001b[0m\u001b[1;33m\u001b[0m\u001b[0m\n",
      "\u001b[1;31mTypeError\u001b[0m: can only concatenate str (not \"int\") to str"
     ]
    }
   ],
   "source": [
    "#Concatination\n",
    "\n",
    "first_name = 'Surender'\n",
    "last_name = 'Reddy'\n",
    "full_name = first_name + last_name\n",
    "print(full_name)\n",
    "#This will concatinate both the strings and print the output.\n",
    "print(full_name + 5)\n",
    "#Concatination happens only between string but not with string and another datatypes.\n",
    "#So, it raises the TypeError exception. \n",
    "\n",
    "#To resolve this we need to convert the integer into string. "
   ]
  },
  {
   "cell_type": "code",
   "execution_count": 24,
   "metadata": {},
   "outputs": [
    {
     "name": "stdout",
     "output_type": "stream",
     "text": [
      "SurenderReddy5\n"
     ]
    }
   ],
   "source": [
    "#Type Conversion\n",
    "print(full_name + str(5))\n",
    "#Here we converted 5 to string using in-built str() function and then performed concatination."
   ]
  },
  {
   "cell_type": "code",
   "execution_count": 27,
   "metadata": {},
   "outputs": [
    {
     "ename": "SyntaxError",
     "evalue": "invalid syntax (<ipython-input-27-bce3472760a4>, line 2)",
     "output_type": "error",
     "traceback": [
      "\u001b[1;36m  File \u001b[1;32m\"<ipython-input-27-bce3472760a4>\"\u001b[1;36m, line \u001b[1;32m2\u001b[0m\n\u001b[1;33m    weather = 'It's sunny'\u001b[0m\n\u001b[1;37m                  ^\u001b[0m\n\u001b[1;31mSyntaxError\u001b[0m\u001b[1;31m:\u001b[0m invalid syntax\n"
     ]
    }
   ],
   "source": [
    "#Escape Sequence\n",
    "weather = 'It's sunny'\n",
    "#This will not work because python considers string is 'It' and we have entered invalid characters after that.\n"
   ]
  },
  {
   "cell_type": "code",
   "execution_count": 32,
   "metadata": {},
   "outputs": [
    {
     "ename": "SyntaxError",
     "evalue": "invalid syntax (<ipython-input-32-a77b54af91c0>, line 5)",
     "output_type": "error",
     "traceback": [
      "\u001b[1;36m  File \u001b[1;32m\"<ipython-input-32-a77b54af91c0>\"\u001b[1;36m, line \u001b[1;32m5\u001b[0m\n\u001b[1;33m    weather = \"It's \"kind of\" \"sunny\"\u001b[0m\n\u001b[1;37m                        ^\u001b[0m\n\u001b[1;31mSyntaxError\u001b[0m\u001b[1;31m:\u001b[0m invalid syntax\n"
     ]
    }
   ],
   "source": [
    "weather = \"It's sunny\"\n",
    "print(weather)\n",
    "#Here by writing the string with double quotes we have found a work around. \n",
    "\n",
    "weather = \"It's \"kind of\" \"sunny\"\n",
    "#However when I try to put \"kind of\" under double quotations, python is considering as string has ended."
   ]
  },
  {
   "cell_type": "code",
   "execution_count": 37,
   "metadata": {},
   "outputs": [
    {
     "name": "stdout",
     "output_type": "stream",
     "text": [
      "It's \"kind of\" sunny.\n",
      "It's \"kind of\" rainy.\n",
      "Please carry Umberella.\n"
     ]
    }
   ],
   "source": [
    "weather = \"It\\'s \\\"kind of\\\" sunny.\"\n",
    "print(weather)\n",
    "#'\\' is the escape character in python.\n",
    "# It means if we use '\\' before any character (or) symbol it will be considered as a string.\n",
    "\n",
    "weather = \"It\\'s \\\"kind of\\\" rainy.\\nPlease carry Umberella.\"\n",
    "print(weather)\n",
    "#'\\' before 'n' in a string considers it as a new line and prints remaining string in new line."
   ]
  },
  {
   "cell_type": "code",
   "execution_count": 68,
   "metadata": {},
   "outputs": [
    {
     "name": "stdout",
     "output_type": "stream",
     "text": [
      "Hi Surender. You are 23 years old.\n",
      "Hi Surender. You are 23 years old.\n",
      "Hi Surender. You are 23 years old.\n",
      "Hi Surender. You are 23 year old. Thanks for visiting us, Bye Surender\n",
      "Hi Surender. You are 23 year old. Thanks for visiting us, Bye Surender\n"
     ]
    },
    {
     "ename": "IndexError",
     "evalue": "tuple index out of range",
     "output_type": "error",
     "traceback": [
      "\u001b[1;31m---------------------------------------------------------------------------\u001b[0m",
      "\u001b[1;31mIndexError\u001b[0m                                Traceback (most recent call last)",
      "\u001b[1;32m<ipython-input-68-829f2d9711d8>\u001b[0m in \u001b[0;36m<module>\u001b[1;34m\u001b[0m\n\u001b[0;32m     16\u001b[0m \u001b[0mprint\u001b[0m\u001b[1;33m(\u001b[0m\u001b[1;34m'Hi {0}. You are {1} year old. Thanks for visiting us, Bye {0}'\u001b[0m\u001b[1;33m.\u001b[0m\u001b[0mformat\u001b[0m\u001b[1;33m(\u001b[0m\u001b[0mname\u001b[0m\u001b[1;33m,\u001b[0m \u001b[0mage\u001b[0m\u001b[1;33m)\u001b[0m\u001b[1;33m)\u001b[0m\u001b[1;33m\u001b[0m\u001b[1;33m\u001b[0m\u001b[0m\n\u001b[0;32m     17\u001b[0m \u001b[1;31m#Instead of passing the same parameter multiple times, we can pass the index of the parameter to print it multiple times.\u001b[0m\u001b[1;33m\u001b[0m\u001b[1;33m\u001b[0m\u001b[1;33m\u001b[0m\u001b[0m\n\u001b[1;32m---> 18\u001b[1;33m \u001b[0mprint\u001b[0m\u001b[1;33m(\u001b[0m\u001b[1;34m'Hi {0}. You are {1} year old. Thanks for visiting us, Bye {0}'\u001b[0m\u001b[1;33m.\u001b[0m\u001b[0mformat\u001b[0m\u001b[1;33m(\u001b[0m\u001b[0mname\u001b[0m\u001b[1;33m=\u001b[0m\u001b[1;34m'Reddy'\u001b[0m\u001b[1;33m,\u001b[0m \u001b[0mage\u001b[0m\u001b[1;33m=\u001b[0m\u001b[1;36m24\u001b[0m\u001b[1;33m)\u001b[0m\u001b[1;33m)\u001b[0m\u001b[1;33m\u001b[0m\u001b[1;33m\u001b[0m\u001b[0m\n\u001b[0m\u001b[0;32m     19\u001b[0m \u001b[1;31m#When we\u001b[0m\u001b[1;33m\u001b[0m\u001b[1;33m\u001b[0m\u001b[1;33m\u001b[0m\u001b[0m\n\u001b[0;32m     20\u001b[0m \u001b[1;33m\u001b[0m\u001b[0m\n",
      "\u001b[1;31mIndexError\u001b[0m: tuple index out of range"
     ]
    }
   ],
   "source": [
    "#Formatted strings\n",
    "\n",
    "name = 'Surender'\n",
    "age = 23\n",
    "\n",
    "print('Hi ' + name + '. You are ' + str(age) + ' years old.')\n",
    "#Till python 2 we used to concatinate the variables like this to make the print statement dynamic.\n",
    "\n",
    "print('Hi {}. You are {} years old.'.format(name,age))\n",
    "#using format() function we can make it more user friendly, This is available in python 2 and 3 as well.\n",
    "\n",
    "print('Hi {1}. You are {0} years old.'.format(age, name))\n",
    "#We can also specify the order of the arguments we have passed in format() function.\n",
    "\n",
    "print('Hi {}. You are {} year old. Thanks for visiting us, Bye {}'.format(name, age, name))\n",
    "print('Hi {0}. You are {1} year old. Thanks for visiting us, Bye {0}'.format(name, age))\n",
    "#Instead of passing the same parameter multiple times, we can pass the index of the parameter to print it multiple times.\n",
    "\n",
    "print('Hi {0}. You are {1} year old. Thanks for visiting us, Bye {0}'.format(name='Reddy', age=24))\n",
    "#When we try to assign a value to the argument in format() function, we cannot pass its index in string.\n",
    "\n",
    "print('Hi %s. You are %s years old' %(name,age))\n",
    "#%s indicates conversion type as string and performs concatination.\n",
    "#Here we have converted 'age' to string and then performed concatination.\n",
    "\n",
    "print('Hi %s. You are %d years old' %(name,age))\n",
    "#%d indicates converstion type is integer.\n",
    "#Python will automatically convert the digit and perform concatination\n",
    "\n",
    "#From python 3 we can use formatted string which make the things very easy for the developer.\n",
    "\n",
    "print(f'Hi {name}. You are {age} years old.')\n",
    "#Formatted strings are lot more friendly to read the code compared to the traditional concatination.\n"
   ]
  },
  {
   "cell_type": "code",
   "execution_count": 71,
   "metadata": {},
   "outputs": [
    {
     "name": "stdout",
     "output_type": "stream",
     "text": [
      "Hi Surender. You are 23 years old.\n",
      "Hi Surender. You are 23 years old.\n",
      "Hi Surender. You are 23 years old.\n",
      "Hi Surender. You are 23 year old. Thanks for visiting us, Bye Surender\n",
      "Hi Surender. You are 23 year old. Thanks for visiting us, Bye Surender\n",
      "Hi Reddy. You are 24 year old. Thanks for visiting us, Bye Reddy\n",
      "Hi Surender. You are 23 years old\n",
      "Hi Surender. You are 23 years old\n",
      "Hi Surender. You are 23 years old.\n"
     ]
    }
   ],
   "source": [
    "#Formatted strings\n",
    "\n",
    "name = 'Surender'\n",
    "age = 23\n",
    "\n",
    "print('Hi ' + name + '. You are ' + str(age) + ' years old.')\n",
    "#Till python 2 we used to concatinate the variables like this to make the print statement dynamic.\n",
    "\n",
    "print('Hi {}. You are {} years old.'.format(name,age))\n",
    "#using format() function we can make it more user friendly, This is available in python 2 and 3 as well.\n",
    "\n",
    "print('Hi {1}. You are {0} years old.'.format(age, name))\n",
    "#We can also specify the order of the arguments we have passed in format() function.\n",
    "\n",
    "print('Hi {}. You are {} year old. Thanks for visiting us, Bye {}'.format(name, age, name))\n",
    "print('Hi {0}. You are {1} year old. Thanks for visiting us, Bye {0}'.format(name, age))\n",
    "#Instead of passing the same parameter multiple times, we can pass the index of the parameter to print it multiple times.\n",
    "\n",
    "\n",
    "\n",
    "print('Hi {name}. You are {age} year old. Thanks for visiting us, Bye {name}'.format(name='Reddy', age=24))\n",
    "#When we try to assign a value to the argument in format() function, we cannot pass its index in string.\n",
    "#Instead we should pass the argument name directly to access it.\n",
    "\n",
    "\n",
    "\n",
    "print('Hi %s. You are %s years old' %(name,age))\n",
    "#%s indicates conversion type as string and performs concatination.\n",
    "#Here we have converted 'age' to string and then performed concatination.\n",
    "\n",
    "print('Hi %s. You are %d years old' %(name,age))\n",
    "#%d indicates converstion type is integer.\n",
    "#Python will automatically convert the digit and perform concatination\n",
    "\n",
    "#From python 3 we can use formatted string which make the things very easy for the developer.\n",
    "\n",
    "print(f'Hi {name}. You are {age} years old.')\n",
    "#Formatted strings are lot more friendly to read the code compared to the traditional concatination.\n"
   ]
  },
  {
   "cell_type": "code",
   "execution_count": 145,
   "metadata": {},
   "outputs": [
    {
     "name": "stdout",
     "output_type": "stream",
     "text": [
      "123\n",
      "1234567\n",
      "1357\n",
      "1234567\n",
      "01234567\n",
      "7\n",
      "01234\n",
      "567\n",
      "76543210\n",
      "765\n",
      "8\n",
      "01234567\n",
      "0123456\n"
     ]
    }
   ],
   "source": [
    "# Slicing\n",
    "\n",
    "python = '01234567'\n",
    "\n",
    "# [Start:End:StepOver]\n",
    "print(python[1:4])\n",
    "# This will print from index 1 to 4 i.e, 1,2,3. By default, stepover is considered as 1.\n",
    "\n",
    "print(python[1::1])\n",
    "# This will print from index 1 till the end of string and the step is 1.\n",
    "\n",
    "print(python[1::2])\n",
    "# This will print from index 1 till the end of string and the stepover is 2. That means it will skip 1 character after printing each character.\n",
    "\n",
    "print(python[1:100])\n",
    "# This will print from index 1 and goes for the index 100. As we do not have index 100 it will stop when the string ends.\n",
    "\n",
    "print(python[:])\n",
    "# This will print from beginning to end of the string.\n",
    "\n",
    "print(python[-1])\n",
    "# This will print last character of the string.\n",
    "\n",
    "print(python[:-3])\n",
    "# This will print from index 0 to -3 of the string.\n",
    "\n",
    "print(python[-3:])\n",
    "# This will start printing from index -3 and goes till end of the string.\n",
    "\n",
    "print(python[::-1])\n",
    "# This will print all characters from the last element.\n",
    "\n",
    "print(python[:4:-1])\n",
    "# This will print from last character to 4th element of the string.\n",
    "\n",
    "\n",
    "# len() funtion\n",
    "print(len(python))\n",
    "# len() function is used to find the length of the string. \n",
    "# Output of len('0') is 1. len() function starts counting from 1, whereas indexing starts from 0.\n",
    "\n",
    "print(python[:len(python)])\n",
    "# Here, it will start from index 0 till the index of length of the string.\n",
    "\n",
    "print(python[:len(python)-1])\n",
    "# Here, it will start from index 0 till 1 index lessthan the length of the string .\n"
   ]
  },
  {
   "cell_type": "code",
   "execution_count": 98,
   "metadata": {},
   "outputs": [
    {
     "ename": "TypeError",
     "evalue": "'str' object does not support item assignment",
     "output_type": "error",
     "traceback": [
      "\u001b[1;31m---------------------------------------------------------------------------\u001b[0m",
      "\u001b[1;31mTypeError\u001b[0m                                 Traceback (most recent call last)",
      "\u001b[1;32m<ipython-input-98-2fd59ac8f0d4>\u001b[0m in \u001b[0;36m<module>\u001b[1;34m\u001b[0m\n\u001b[0;32m      3\u001b[0m \u001b[1;31m# Once a string is created in python, it cannot be modified.\u001b[0m\u001b[1;33m\u001b[0m\u001b[1;33m\u001b[0m\u001b[1;33m\u001b[0m\u001b[0m\n\u001b[0;32m      4\u001b[0m \u001b[0mname\u001b[0m \u001b[1;33m=\u001b[0m \u001b[1;34m'surender'\u001b[0m\u001b[1;33m\u001b[0m\u001b[1;33m\u001b[0m\u001b[0m\n\u001b[1;32m----> 5\u001b[1;33m \u001b[0mname\u001b[0m\u001b[1;33m[\u001b[0m\u001b[1;36m0\u001b[0m\u001b[1;33m]\u001b[0m \u001b[1;33m=\u001b[0m \u001b[1;34m'S'\u001b[0m\u001b[1;33m\u001b[0m\u001b[1;33m\u001b[0m\u001b[0m\n\u001b[0m\u001b[0;32m      6\u001b[0m \u001b[1;33m\u001b[0m\u001b[0m\n",
      "\u001b[1;31mTypeError\u001b[0m: 'str' object does not support item assignment"
     ]
    }
   ],
   "source": [
    "#Immutability of a string\n",
    "\n",
    "name = 'surender'\n",
    "name[0] = 'S'\n",
    "# Once a string is created in python, that object cannot be modified. Hence, we are not able to assign 'S' at index 0.\n"
   ]
  },
  {
   "cell_type": "code",
   "execution_count": 146,
   "metadata": {},
   "outputs": [
    {
     "name": "stdout",
     "output_type": "stream",
     "text": [
      "2426724994544\n",
      "Surender\n",
      "2426719060784\n",
      "2426724994544\n"
     ]
    }
   ],
   "source": [
    "#Immutability of a string\n",
    "\n",
    "name = 'surender'\n",
    "print(id(name))\n",
    "\n",
    "name = 'S'+name[1:]\n",
    "# Here, we are concatinating 'S' with from index 1 till last character.\n",
    "# However, It will not modify the current object of name. \n",
    "# Instead, it will create new object and variable name will point to the newly created object.\n",
    "\n",
    "print(name)\n",
    "print(id(name))\n",
    "print(id('surender'))\n",
    "# We can see that output of objects ID in first and last lines are same. And the variable name is pointing to another object now."
   ]
  },
  {
   "cell_type": "code",
   "execution_count": 275,
   "metadata": {},
   "outputs": [
    {
     "name": "stdout",
     "output_type": "stream",
     "text": [
      "SURENDER REDDY CHITTEDDY\n",
      "Surender reddy chitteddy\n",
      "False\n",
      "True\n",
      "\n",
      "if there are any numbers or special characters in the string they will neither be considered lower nor upper case.\n",
      "True\n",
      "True\n",
      "surender reddy chitteddy@123\n",
      "2\n",
      "-1\n",
      "suRendeR Reddy chitteddy@123\n",
      "suRender reddy chitteddy@123\n",
      "surender reddy chitteddy@123\n",
      "surender SURENDER\n",
      "3\n",
      "0\n"
     ]
    }
   ],
   "source": [
    "# String methods\n",
    "# Till now we have seen functions which were surrounded by paranthesis.\n",
    "# Methods are similar to functions, but they are belonged to specific types and are started by dot (.) after the variable.\n",
    "\n",
    "name = 'surender reddy chitteddy'\n",
    "print(name.upper())\n",
    "# upper() is a string method used to convert all the characters in a string to upper case.\n",
    "\n",
    "print(name.capitalize())\n",
    "# capitalize() method will convert the first character of the string to upper case, remaining characters to lower case.\n",
    "\n",
    "print(name.isupper())\n",
    "# isupper() method will return the boolean value i.e,\n",
    "# True if all the characters in the string are in uppercase. False if any character is in upper case.\n",
    "\n",
    "print(name.islower())\n",
    "# islower() is exactly opposite to isupper() method.\n",
    "print()\n",
    "\n",
    "print('if there are any numbers or special characters in the string they will neither be considered lower nor upper case.')\n",
    "name = name.upper() + '@123'\n",
    "print(name.isupper())\n",
    "\n",
    "name = name.lower()\n",
    "print(name.islower())\n",
    "# if there are any numbers or special characters in the string they will neither be considered lower nor upper case.\n",
    "\n",
    "print(name)\n",
    "print(name.find('r'))\n",
    "print(name.find('R'))\n",
    "# find() method will return the index of the character if it is present, else it will return '-1'.\n",
    "\n",
    "\n",
    "print(name.replace('r', 'R'))\n",
    "# replace() method will replace the 'r' with 'R' from the string.\n",
    "\n",
    "print(name.replace('r','R',1)) \n",
    "# Now replace() will replace 'r' with 'R' only in first occurance, remaining 'r' characters left unchanged.\n",
    "\n",
    "print(name)\n",
    "# However, when we print name it will print the old value which was present before replacing.\n",
    "# This happens because the strings are immutable objects and whenever we use these methods which are making changed to the string. \n",
    "# They are not making changes to the existing object but creating the new object and returning them.\n",
    "\n",
    "name = 'surender'\n",
    "name2 = name.upper()\n",
    "print(name, name2)\n",
    "# Now we have converted variable 'name' to upper() and then assigned to the variable 'name2'\n",
    "\n",
    "name = 'surender reddy chitteddy'\n",
    "name.title()\n",
    "# title() method is used to convert first letter of each word to upper case and remaining characters to lower case.\n",
    "\n",
    "name.istitle()\n",
    "# istitle() method is used to check if it is in title format as mentioned above.\n",
    "# Output is false because title() method has created new object but it has not changed the existing value of variable name.\n",
    "\n",
    "\n",
    "#string.count('sub-string', start, end)\n",
    "print(name.count('r'))\n",
    "# count() method takes the sub-string and returns the count of the substring. \n",
    "# start and end indexes of the string are optional parameters.\n",
    "# By default, count() method will count for the sub-string from beginning to end of the string.\n",
    "\n",
    "print(name.count('r', 0, 2))\n",
    "# Here, we are counting 'r' from index 0 to 2. So it will consider only index 0,1 and 'r' is not present here. \n",
    "# Hence the count is 0."
   ]
  },
  {
   "cell_type": "code",
   "execution_count": 229,
   "metadata": {},
   "outputs": [
    {
     "name": "stdout",
     "output_type": "stream",
     "text": [
      "['surender', 'reddy', 'chitteddy']\n",
      "['su', 'nder ', 'ddy chitteddy']\n",
      "['surender reddy chitteddy']\n",
      "['su', 'ender reddy chitteddy']\n"
     ]
    }
   ],
   "source": [
    "# split() method\n",
    "\n",
    "name = 'surender reddy chitteddy'\n",
    "print(name.split())\n",
    "# spilt() method will split the string and returns a list.\n",
    "# By default split() method will consider space as a seperator and returns the list of strings.\n",
    "\n",
    "print(name.split('re'))\n",
    "# User can also pass the specific character/sub-string to the split() method as above.\n",
    "\n",
    "print(name.split('R'))\n",
    "# If we pass the character/sub-string which is not present in string, split() will return complete string in a list.\n",
    "\n",
    "print(name.split('r',1))\n",
    "# We can also restrict the number of times we want to split with the specific seperator\n",
    "# Here, we are splitting the string with 'r' only in first occasion.\n",
    "\n"
   ]
  },
  {
   "cell_type": "code",
   "execution_count": 264,
   "metadata": {},
   "outputs": [
    {
     "name": "stdout",
     "output_type": "stream",
     "text": [
      ".wSurender Reddy Chitteddy\n",
      "\r",
      "  \t .wSurender Reddy Chitteddy\n",
      ".wSurender Reddy Chitteddy  \n",
      "        \n",
      "Surender Reddy Chitteddy\n"
     ]
    }
   ],
   "source": [
    "# strip method\n",
    "\n",
    "name = \"\\r  \\t .wSurender Reddy Chitteddy  \\n        \"\n",
    "\n",
    "print(name.strip())\n",
    "# strip() method will removes any spaces, tab-spaces or newlines at the beginning or end of the string.\n",
    "\n",
    "print(name.rstrip())\n",
    "# rstrip() method will remove the spaces , tab-spaces or newlines at the end of the string.\n",
    "\n",
    "print(name.lstrip())\n",
    "# lstrip() method will remove the spaces , tab-spaces or newlines at the beginning of the string.\n",
    "\n",
    "print(name.strip(' .w,\\t\\r\\n'))\n",
    "# We can also strip the specific characters by passing them to the strip() method as above.\n"
   ]
  },
  {
   "cell_type": "code",
   "execution_count": null,
   "metadata": {},
   "outputs": [],
   "source": [
    "\n"
   ]
  },
  {
   "cell_type": "code",
   "execution_count": null,
   "metadata": {},
   "outputs": [],
   "source": [
    "\n"
   ]
  }
 ],
 "metadata": {
  "kernelspec": {
   "display_name": "Python 3",
   "language": "python",
   "name": "python3"
  },
  "language_info": {
   "codemirror_mode": {
    "name": "ipython",
    "version": 3
   },
   "file_extension": ".py",
   "mimetype": "text/x-python",
   "name": "python",
   "nbconvert_exporter": "python",
   "pygments_lexer": "ipython3",
   "version": "3.7.4"
  }
 },
 "nbformat": 4,
 "nbformat_minor": 2
}
