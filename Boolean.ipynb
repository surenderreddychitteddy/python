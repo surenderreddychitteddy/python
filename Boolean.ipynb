{
 "cells": [
  {
   "cell_type": "code",
   "execution_count": 7,
   "metadata": {},
   "outputs": [
    {
     "name": "stdout",
     "output_type": "stream",
     "text": [
      "True\n",
      "False\n",
      "True\n",
      "\n",
      "a True\n",
      "b False\n"
     ]
    }
   ],
   "source": [
    "# Boolean represent either the value is True or False.\n",
    "\n",
    "# Any expression in python can be evaluated in python and it will return either True or False.\n",
    "\n",
    "print(1>-1)\n",
    "print(10 == 9)\n",
    "print(type(10) == int)\n",
    "# Here we are checking if the expression is True or False.\n",
    "print()\n",
    "\n",
    "# In the same way we can also assign the boolean values to an integer as below:\n",
    "a = True\n",
    "print('a',a)\n",
    "b = False\n",
    "print('b',b)\n",
    "\n"
   ]
  },
  {
   "cell_type": "code",
   "execution_count": 12,
   "metadata": {},
   "outputs": [
    {
     "name": "stdout",
     "output_type": "stream",
     "text": [
      "1\n",
      "0\n"
     ]
    }
   ],
   "source": [
    "# Type casting of boolean\n",
    "\n",
    "a = int(True)\n",
    "print(a)\n",
    "# When you convert True to an integer, the value is 1.\n",
    "\n",
    "b = int(False)\n",
    "print(b)\n",
    "# When you convert False to an integer, the value is 0."
   ]
  },
  {
   "cell_type": "code",
   "execution_count": 21,
   "metadata": {},
   "outputs": [
    {
     "name": "stdout",
     "output_type": "stream",
     "text": [
      "False\n",
      "True\n"
     ]
    }
   ],
   "source": [
    "# Checking boolean for strings.\n",
    "a = 'Surender'\n",
    "print(a.endswith('S'))\n",
    "print(a.startswith('S'))\n",
    "# If the given string 'a' endswith() or startswith() the substring passed to those methods, they will return True.\n",
    "# Else it will return False."
   ]
  },
  {
   "cell_type": "code",
   "execution_count": 59,
   "metadata": {},
   "outputs": [
    {
     "name": "stdout",
     "output_type": "stream",
     "text": [
      "[] is False\n",
      "Hello\n",
      "[0] is True\n",
      "0.0 is False\n",
      "None is False\n",
      "True is True\n",
      "Easy string is True\n"
     ]
    }
   ],
   "source": [
    "# bool() function : This will return either True or False.\n",
    "\n",
    "# In python the below values are considered as False and remaining will always be True.\n",
    "# None, False.\n",
    "# Zero of any numeric type i.e, 0 (int), 0.0 (float), 0J (complex)\n",
    "# Empty sequence is also considered as False. Example : [], (), ''\n",
    "# Empty mapping is also considered as False. Example : {}\n",
    "\n",
    "test = []\n",
    "print(test,'is',bool(test))\n",
    "if test:\n",
    "    print('Hi')\n",
    "else:\n",
    "    print('Hello')\n",
    "\n",
    "test = [0]\n",
    "print(test,'is',bool(test))\n",
    "\n",
    "test = 0.0\n",
    "print(test,'is',bool(test))\n",
    "\n",
    "test = None\n",
    "print(test,'is',bool(test))\n",
    "\n",
    "test = True\n",
    "print(test,'is',bool(test))\n",
    "\n",
    "test = 'Easy string'\n",
    "print(test,'is',bool(test))\n",
    "\n"
   ]
  },
  {
   "cell_type": "code",
   "execution_count": 56,
   "metadata": {},
   "outputs": [
    {
     "name": "stdout",
     "output_type": "stream",
     "text": [
      "{'name': 'Surender Reddy Chitteddy', 'Employee': True}\n"
     ]
    }
   ],
   "source": [
    "# Handling boolean received from JSON files.\n",
    "\n",
    "# When you are using the json input file the boolean values are represented as 'true' and 'false'.\n",
    "# However, In python we use True and False instead of that.\n",
    "# The issue issue here is we cannot pass the value as True or False to JSON, They should always be in lower case.\n",
    "\n",
    "import json\n",
    "d = '''{\"name\" : \"Surender Reddy Chitteddy\", \"Employee\":true}'''\n",
    "# I have declared the multiple string and the json inside that as we cannot read json file from this cell.\n",
    "# We can also convert this type of string to JSON.\n",
    "# Note quotations for keys and values under json are alway double-quotes.\n",
    "\n",
    "j = json.loads(d)\n",
    "print(j)\n",
    "# Here, We can see that in the value of 'Employee' is true. \n",
    "# However, When we have done json.loads(d). It converted the JSON/string to python dictionary.\n",
    "# Hence, the value of employee in python dictionary is True instead of true.\n",
    " "
   ]
  }
 ],
 "metadata": {
  "kernelspec": {
   "display_name": "Python 3",
   "language": "python",
   "name": "python3"
  },
  "language_info": {
   "codemirror_mode": {
    "name": "ipython",
    "version": 3
   },
   "file_extension": ".py",
   "mimetype": "text/x-python",
   "name": "python",
   "nbconvert_exporter": "python",
   "pygments_lexer": "ipython3",
   "version": "3.7.4"
  }
 },
 "nbformat": 4,
 "nbformat_minor": 2
}
